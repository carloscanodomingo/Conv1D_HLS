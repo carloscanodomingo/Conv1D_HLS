{
 "cells": [
  {
   "cell_type": "code",
   "execution_count": null,
   "metadata": {},
   "outputs": [],
   "source": [
    "import scipy.io\n",
    "import numpy as np\n",
    "from eyelib.datasets import read\n",
    "dataset = read('TestDatasets/may08_test_C009.pck.dataset')\n",
    "X_c = dataset['X']\n",
    "Y_c = dataset['Y']\n",
    "#X_c = X[0:15]\n",
    "#Y_c = Y[0:15]\n",
    "dataset = read('TestDatasets/may08_test_P015.pck.dataset')\n",
    "X_p = dataset['X']\n",
    "Y_ = dataset['Y']\n",
    "#Y_p = Y[0:15]\n",
    "#X_p = X[0:15]\n",
    "dataset = read('TestDatasets/may08_test_S016.pck.dataset')\n",
    "X_s = dataset['X']\n",
    "Y_s = dataset['Y']\n",
    "#Y_s = Y[0:15]\n",
    "#X_s = X[0:15]\n",
    "Y_sum = np.concatenate((Y_c,Y_p,Y_s))\n",
    "X_sum = np.concatenate((X_c,X_p,X_s))\n",
    "prediction_labels = model1.predict(np.expand_dims(X_sum,axis=2))\n",
    "#scipy.io.savemat('MATLAB/arrdata_in.mat', {'Test_in' : X_sum})\n",
    "on_shot = argmax(prediction_labels,1)\n",
    "\n"
   ]
  }
 ],
 "metadata": {
  "kernelspec": {
   "display_name": "Python 3",
   "language": "python",
   "name": "python3"
  },
  "language_info": {
   "codemirror_mode": {
    "name": "ipython",
    "version": 3
   },
   "file_extension": ".py",
   "mimetype": "text/x-python",
   "name": "python",
   "nbconvert_exporter": "python",
   "pygments_lexer": "ipython3",
   "version": "3.6.4"
  }
 },
 "nbformat": 4,
 "nbformat_minor": 2
}
